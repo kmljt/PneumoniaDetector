{
 "cells": [
  {
   "cell_type": "code",
   "execution_count": 1,
   "metadata": {},
   "outputs": [
    {
     "name": "stdout",
     "output_type": "stream",
     "text": [
      "Platform: Local machine\n"
     ]
    },
    {
     "data": {
      "text/plain": [
       "'Datasets/chest_xray/'"
      ]
     },
     "execution_count": 1,
     "metadata": {},
     "output_type": "execute_result"
    }
   ],
   "source": [
    "try:\n",
    "    from google.colab import drive\n",
    "    drive.mount('/content/drive')\n",
    "\n",
    "    ROOT_DIR = '/content/drive/MyDrive/chest_xray_pneumonia_detection_minor_7th_sem/'\n",
    "    platform = 'Google Colab'\n",
    "\n",
    "except:\n",
    "    ROOT_DIR = ''\n",
    "    platform = 'Local machine'\n",
    "\n",
    "dataset_path = f'{ROOT_DIR}Datasets/chest_xray/'\n",
    "\n",
    "print(f'Platform: {platform}')\n",
    "dataset_path"
   ]
  },
  {
   "cell_type": "code",
   "execution_count": 2,
   "metadata": {},
   "outputs": [],
   "source": [
    "import os\n",
    "import shutil"
   ]
  },
  {
   "cell_type": "code",
   "execution_count": 3,
   "metadata": {},
   "outputs": [],
   "source": [
    "splits = os.listdir(dataset_path)\n",
    "\n",
    "os.makedirs(os.path.join(dataset_path, 'NORMAL'), exist_ok=False)\n",
    "os.makedirs(os.path.join(dataset_path, 'PNEUMONIA_BACTERIAL'), exist_ok=False)\n",
    "os.makedirs(os.path.join(dataset_path, 'PNEUMONIA_VIRAL'), exist_ok=False)"
   ]
  },
  {
   "cell_type": "code",
   "execution_count": 4,
   "metadata": {},
   "outputs": [],
   "source": [
    "for split in splits:\n",
    "    split_folder_path = os.path.join(dataset_path, split)\n",
    "    normal_folder_path = os.path.join(split_folder_path, 'NORMAL')\n",
    "    for filename in os.listdir(normal_folder_path):\n",
    "        src_file_path = os.path.join(normal_folder_path, filename)\n",
    "        dest_file_path = os.path.join(dataset_path, 'NORMAL', filename)\n",
    "\n",
    "        shutil.move(src_file_path, dest_file_path)\n",
    "\n",
    "    pneumonia_folder_path = os.path.join(split_folder_path, 'PNEUMONIA')\n",
    "    for filename in os.listdir(pneumonia_folder_path):\n",
    "        src_file_path = os.path.join(pneumonia_folder_path, filename)\n",
    "        if 'virus' in filename:\n",
    "            dest_file_path = os.path.join(dataset_path, 'PNEUMONIA_VIRAL', filename)\n",
    "        else:\n",
    "            dest_file_path = os.path.join(dataset_path, 'PNEUMONIA_BACTERIAL', filename)\n",
    "        \n",
    "        shutil.move(src_file_path, dest_file_path)\n",
    "\n",
    "    shutil.rmtree(split_folder_path)"
   ]
  }
 ],
 "metadata": {
  "kernelspec": {
   "display_name": "base",
   "language": "python",
   "name": "python3"
  },
  "language_info": {
   "codemirror_mode": {
    "name": "ipython",
    "version": 3
   },
   "file_extension": ".py",
   "mimetype": "text/x-python",
   "name": "python",
   "nbconvert_exporter": "python",
   "pygments_lexer": "ipython3",
   "version": "3.11.7"
  }
 },
 "nbformat": 4,
 "nbformat_minor": 2
}
